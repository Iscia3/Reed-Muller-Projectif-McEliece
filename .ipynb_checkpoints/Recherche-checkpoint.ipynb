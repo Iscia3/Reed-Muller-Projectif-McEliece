{
 "cells": [
  {
   "cell_type": "code",
   "execution_count": 1,
   "id": "8a708563",
   "metadata": {},
   "outputs": [],
   "source": [
    "def generer_variables(m):\n",
    "    M=m+1\n",
    "    noms_var=[\"x\"+str(i) for i in range(M)]\n",
    "   # print(M,noms_var)\n",
    "    R=PolynomialRing(Fq, noms_var)\n",
    "    return R.gens()"
   ]
  },
  {
   "cell_type": "code",
   "execution_count": 16,
   "id": "4e578aec",
   "metadata": {},
   "outputs": [],
   "source": [
    "Monomes=[]\n",
    "#m=4\n",
    "#generer_variables(m)\n",
    "def generer_exposants_rec(degre_restant,indice,exp_actuels):\n",
    "    if indice==(M-1):\n",
    "        exp_actuels[indice]=degre_restant\n",
    "        monome=prod(variables[i]^(exp_actuels[i]) for i in range(M))\n",
    "        Monomes.append(monome)\n",
    "        \n",
    "        return(Monomes)\n",
    "        \n",
    "    for e in range(degre_restant+1):\n",
    "        exp_actuels[indice]=e\n",
    "        generer_exposants_rec(degre_restant-e, indice+1,exp_actuels)\n",
    "        \n",
    "    return(Monomes)"
   ]
  },
  {
   "cell_type": "code",
   "execution_count": 6,
   "id": "8017dd64",
   "metadata": {},
   "outputs": [],
   "source": [
    "def generer_exposants(degre_restant,indice,exp_actuels):\n",
    "    Monomes=[]\n",
    "    return(generer_exposants_rec(degre_restant,indice,exp_actuels))"
   ]
  },
  {
   "cell_type": "code",
   "execution_count": 10,
   "id": "26044e69",
   "metadata": {},
   "outputs": [
    {
     "name": "stdout",
     "output_type": "stream",
     "text": [
      "(x0, x1, x2) 3\n",
      "[x2, x1, x0]\n",
      "[x2^2, x1*x2, x1^2, x0*x2, x0*x1, x0^2]\n"
     ]
    }
   ],
   "source": [
    "q=2^5\n",
    "Fq=GF(q)\n",
    "m=2\n",
    "M=m+1\n",
    "variables=generer_variables(m)\n",
    "print(variables, M)\n",
    "Monomes=[] #penser a initialiser avant chaque appel de generer_exposants\n",
    "print(generer_exposants(1,0,[0]*M))\n",
    "Monomes=[]\n",
    "print(generer_exposants(2,0,[0]*M))\n",
    "#print(generer_exposants(3,0,[0]*1))"
   ]
  },
  {
   "cell_type": "code",
   "execution_count": 55,
   "id": "427455d4",
   "metadata": {},
   "outputs": [
    {
     "name": "stdout",
     "output_type": "stream",
     "text": [
      "x0^2\n",
      "x0*x1\n",
      "x0^2 + x0*x1\n",
      "x0*x2\n",
      "x0^2 + x0*x2\n",
      "x0*x1 + x0*x2\n",
      "x0^2 + x0*x1 + x0*x2\n",
      "x1^2\n",
      "x0^2 + x1^2\n",
      "x0*x1 + x1^2\n",
      "x0^2 + x0*x1 + x1^2\n",
      "x1^2 + x0*x2\n",
      "x0^2 + x1^2 + x0*x2\n",
      "x0*x1 + x1^2 + x0*x2\n",
      "x0^2 + x0*x1 + x1^2 + x0*x2\n",
      "x1*x2\n",
      "x0^2 + x1*x2\n",
      "x0*x1 + x1*x2\n",
      "x0^2 + x0*x1 + x1*x2\n",
      "x0*x2 + x1*x2\n",
      "x0^2 + x0*x2 + x1*x2\n",
      "x0*x1 + x0*x2 + x1*x2\n",
      "x0^2 + x0*x1 + x0*x2 + x1*x2\n",
      "x1^2 + x1*x2\n",
      "x0^2 + x1^2 + x1*x2\n",
      "x0*x1 + x1^2 + x1*x2\n",
      "x0^2 + x0*x1 + x1^2 + x1*x2\n",
      "x1^2 + x0*x2 + x1*x2\n",
      "x0^2 + x1^2 + x0*x2 + x1*x2\n",
      "x0*x1 + x1^2 + x0*x2 + x1*x2\n",
      "x0^2 + x0*x1 + x1^2 + x0*x2 + x1*x2\n",
      "x2^2\n",
      "x0^2 + x2^2\n",
      "x0*x1 + x2^2\n",
      "x0^2 + x0*x1 + x2^2\n",
      "x0*x2 + x2^2\n",
      "x0^2 + x0*x2 + x2^2\n",
      "x0*x1 + x0*x2 + x2^2\n",
      "x0^2 + x0*x1 + x0*x2 + x2^2\n",
      "x1^2 + x2^2\n",
      "x0^2 + x1^2 + x2^2\n",
      "x0*x1 + x1^2 + x2^2\n",
      "x0^2 + x0*x1 + x1^2 + x2^2\n",
      "x1^2 + x0*x2 + x2^2\n",
      "x0^2 + x1^2 + x0*x2 + x2^2\n",
      "x0*x1 + x1^2 + x0*x2 + x2^2\n",
      "x0^2 + x0*x1 + x1^2 + x0*x2 + x2^2\n",
      "x1*x2 + x2^2\n",
      "x0^2 + x1*x2 + x2^2\n",
      "x0*x1 + x1*x2 + x2^2\n",
      "x0^2 + x0*x1 + x1*x2 + x2^2\n",
      "x0*x2 + x1*x2 + x2^2\n",
      "x0^2 + x0*x2 + x1*x2 + x2^2\n",
      "x0*x1 + x0*x2 + x1*x2 + x2^2\n",
      "x0^2 + x0*x1 + x0*x2 + x1*x2 + x2^2\n",
      "x1^2 + x1*x2 + x2^2\n",
      "x0^2 + x1^2 + x1*x2 + x2^2\n",
      "x0*x1 + x1^2 + x1*x2 + x2^2\n",
      "x0^2 + x0*x1 + x1^2 + x1*x2 + x2^2\n",
      "x1^2 + x0*x2 + x1*x2 + x2^2\n",
      "x0^2 + x1^2 + x0*x2 + x1*x2 + x2^2\n",
      "x0*x1 + x1^2 + x0*x2 + x1*x2 + x2^2\n",
      "x0^2 + x0*x1 + x1^2 + x0*x2 + x1*x2 + x2^2\n"
     ]
    }
   ],
   "source": [
    "q=2^5\n",
    "Fq=GF(q)\n",
    "m=2\n",
    "M=m+1\n",
    "variables=generer_variables(m)\n",
    "Monomes=[] #penser a initialiser avant chaque appel de generer_exposants\n",
    "generer_exposants(2,0,[0]*M)\n",
    "nb_monomes=len(Monomes)\n",
    "\n",
    "#on choisi F2 pour commencer\n",
    "coef=int(\"1\"*nb_monomes,2) #base 2 vers base 10 \n",
    "#Fn (2<=n<=36): init(\"n-1\"*nb_monomes, n) \n",
    "\n",
    "for j in range (1,coef+1): #parce qu'on veut tous les coef possibles non tous nuls  \n",
    "    Coefs=list(bin(j)[2:].zfill(nb_monomes))\n",
    "    #print(\"liste coefs\",Coefs)\n",
    "    #print(\"liste monomes\",Monomes)\n",
    "    P=sum(Monomes[i]*int(Coefs[i]) for i in range(nb_monomes))\n",
    "    print(P)\n",
    "    \n"
   ]
  },
  {
   "cell_type": "code",
   "execution_count": null,
   "id": "71402203",
   "metadata": {},
   "outputs": [],
   "source": []
  },
  {
   "cell_type": "code",
   "execution_count": null,
   "id": "41f45513",
   "metadata": {},
   "outputs": [],
   "source": []
  }
 ],
 "metadata": {
  "kernelspec": {
   "display_name": "SageMath 9.5",
   "language": "sage",
   "name": "sagemath"
  },
  "language_info": {
   "codemirror_mode": {
    "name": "ipython",
    "version": 3
   },
   "file_extension": ".py",
   "mimetype": "text/x-python",
   "name": "python",
   "nbconvert_exporter": "python",
   "pygments_lexer": "ipython3",
   "version": "3.10.12"
  }
 },
 "nbformat": 4,
 "nbformat_minor": 5
}
