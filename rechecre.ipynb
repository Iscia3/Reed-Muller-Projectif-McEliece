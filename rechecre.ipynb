{
 "cells": [
  {
   "cell_type": "code",
   "execution_count": 1,
   "id": "df90dffa",
   "metadata": {},
   "outputs": [
    {
     "name": "stdout",
     "output_type": "stream",
     "text": [
      "Defining x0, x1, x2, x3, x4, x5, x6\n"
     ]
    },
    {
     "data": {
      "text/plain": [
       "Multivariate Polynomial Ring in x0, x1, x2, x3, x4, x5, x6 over Finite Field in z5 of size 2^5"
      ]
     },
     "execution_count": 1,
     "metadata": {},
     "output_type": "execute_result"
    }
   ],
   "source": [
    "q=2^5\n",
    "M=7\n",
    "m=M+1\n",
    "Fq=PolynomialRing(GF(q),'x1')\n",
    "P=[]\n",
    "F=PolynomialRing(GF(q),'x',7,order='lex')\n",
    "F.inject_variables()\n",
    "F\n"
   ]
  },
  {
   "cell_type": "code",
   "execution_count": 2,
   "id": "b909661a",
   "metadata": {},
   "outputs": [
    {
     "data": {
      "text/plain": [
       "(x0, x1, x2, x3, x4, x5, x6)"
      ]
     },
     "execution_count": 2,
     "metadata": {},
     "output_type": "execute_result"
    }
   ],
   "source": [
    "F.gens()"
   ]
  },
  {
   "cell_type": "code",
   "execution_count": 3,
   "id": "87e56c5c",
   "metadata": {},
   "outputs": [],
   "source": [
    "f=x^2+3*x"
   ]
  },
  {
   "cell_type": "code",
   "execution_count": 4,
   "id": "013488ca",
   "metadata": {},
   "outputs": [
    {
     "data": {
      "text/plain": [
       "x^2 + 3*x"
      ]
     },
     "execution_count": 4,
     "metadata": {},
     "output_type": "execute_result"
    }
   ],
   "source": [
    "f"
   ]
  },
  {
   "cell_type": "code",
   "execution_count": 5,
   "id": "23543e9f",
   "metadata": {},
   "outputs": [],
   "source": [
    "def gen_var(m):\n",
    "    M=m+1\n",
    "    F=PolynomialRing(GF(q),'x',M)\n",
    "    F.inject_variables()\n",
    "    \n",
    "    return F"
   ]
  },
  {
   "cell_type": "code",
   "execution_count": 6,
   "id": "3a821e48",
   "metadata": {},
   "outputs": [
    {
     "name": "stdout",
     "output_type": "stream",
     "text": [
      "Defining x0, x1, x2, x3, x4, x5\n",
      "Multivariate Polynomial Ring in x0, x1, x2, x3, x4, x5 over Finite Field in z5 of size 2^5\n"
     ]
    }
   ],
   "source": [
    "print(gen_var(5))"
   ]
  },
  {
   "cell_type": "code",
   "execution_count": 7,
   "id": "d2b3da0e",
   "metadata": {},
   "outputs": [],
   "source": [
    "def generer_variables(m):\n",
    "    M=m+1\n",
    "    noms_var=[\"x\"+str(i) for i in range(M)]\n",
    "   # print(M,noms_var)\n",
    "    R=PolynomialRing(Fq, noms_var)\n",
    "    return R.gens()"
   ]
  },
  {
   "cell_type": "code",
   "execution_count": 8,
   "id": "7ef86145",
   "metadata": {},
   "outputs": [],
   "source": [
    "monomes=[]\n",
    "#m=4\n",
    "#generer_variables(m)\n",
    "def generer_exposants(degre_restant,indice,exp_actuels):\n",
    "    if indice==(M-1):\n",
    "        exp_actuels[indice]=degre_restant\n",
    "        monome=prod(variables[i]^(exp_actuels[i]) for i in range(M))\n",
    "        monomes.append(monome)\n",
    "        return(monomes)\n",
    "        \n",
    "    for e in range(degre_restant+1):\n",
    "        exp_actuels[indice]=e\n",
    "        generer_exposants(degre_restant-e, indice+1,exp_actuels)\n",
    "        \n",
    "    return(monomes)"
   ]
  },
  {
   "cell_type": "code",
   "execution_count": 9,
   "id": "552336a4",
   "metadata": {},
   "outputs": [
    {
     "name": "stdout",
     "output_type": "stream",
     "text": [
      "[x2^2, x1*x2, x1^2, x0*x2, x0*x1, x0^2]\n"
     ]
    }
   ],
   "source": [
    "q=2^5\n",
    "Fq=GF(q)\n",
    "m=2\n",
    "M=m+1\n",
    "variables=generer_variables(m)\n",
    "#print(variables, M)\n",
    "print(generer_exposants(2,0,[0]*M))\n",
    "#print(generer_exposants(3,0,[0]*2))\n",
    "#print(generer_exposants(3,0,[0]*1))"
   ]
  },
  {
   "cell_type": "code",
   "execution_count": 10,
   "id": "01cf8439",
   "metadata": {},
   "outputs": [],
   "source": [
    "q=2^5\n",
    "Fq=GF(q)\n",
    "def polynome_homogene(m,r):\n",
    "    M=m+1\n",
    "    noms_var=[\"x\"+str(i) for i in range(M)]\n",
    "    R=PolynomialRing(Fq, noms_var)\n",
    "    variables=R.gens()\n",
    "    monome=[]\n",
    "    for e in range(degre_restant+1):\n",
    "        exp_actuels[indice]=e\n",
    "        generer_exposants(degre_restant-e, indice+1,exp_actuels)\n",
    "    return variables"
   ]
  },
  {
   "cell_type": "code",
   "execution_count": 11,
   "id": "e0dfadce",
   "metadata": {},
   "outputs": [],
   "source": [
    "noms_var=[\"x\"+str(i) for i in range(M)]\n",
    "R=PolynomialRing(Fq, noms_var)\n",
    "variables=R.gens()\n",
    "monome=[]\n"
   ]
  },
  {
   "cell_type": "code",
   "execution_count": 12,
   "id": "c333bd48",
   "metadata": {},
   "outputs": [],
   "source": [
    "def poly_homogene(m,r):\n",
    "    polynomehomogene=[]\n",
    "    Variables=generer_variables(m)\n",
    "    M=m+1\n",
    "    for i in range (r+1):\n",
    "        print(\"i\",i)\n",
    "        liste=generer_exposants(i,0,[0]*M)\n",
    "        #polynomehomogene+=liste\n",
    "        print(\"lisste\",liste)\n",
    "        liste=[]\n",
    "    #return polynomehomogene\n",
    "    "
   ]
  },
  {
   "cell_type": "code",
   "execution_count": 13,
   "id": "e6ae7457",
   "metadata": {},
   "outputs": [
    {
     "name": "stdout",
     "output_type": "stream",
     "text": [
      "i 0\n",
      "lisste [x2^2, x1*x2, x1^2, x0*x2, x0*x1, x0^2, 1]\n",
      "i 1\n",
      "lisste [x2^2, x1*x2, x1^2, x0*x2, x0*x1, x0^2, 1, x2, x1, x0]\n",
      "i 2\n",
      "lisste [x2^2, x1*x2, x1^2, x0*x2, x0*x1, x0^2, 1, x2, x1, x0, x2^2, x1*x2, x1^2, x0*x2, x0*x1, x0^2]\n",
      "None\n"
     ]
    },
    {
     "data": {
      "text/plain": [
       "(None, 2)"
      ]
     },
     "execution_count": 13,
     "metadata": {},
     "output_type": "execute_result"
    }
   ],
   "source": [
    "q=2^5\n",
    "Fq=GF(q)\n",
    "m=2\n",
    "M=m+1\n",
    "print(poly_homogene(3,2)),m"
   ]
  },
  {
   "cell_type": "code",
   "execution_count": null,
   "id": "f502fc40",
   "metadata": {},
   "outputs": [],
   "source": []
  }
 ],
 "metadata": {
  "kernelspec": {
   "display_name": "SageMath 9.5",
   "language": "sage",
   "name": "sagemath"
  },
  "language_info": {
   "codemirror_mode": {
    "name": "ipython",
    "version": 3
   },
   "file_extension": ".py",
   "mimetype": "text/x-python",
   "name": "python",
   "nbconvert_exporter": "python",
   "pygments_lexer": "ipython3",
   "version": "3.10.12"
  }
 },
 "nbformat": 4,
 "nbformat_minor": 5
}
